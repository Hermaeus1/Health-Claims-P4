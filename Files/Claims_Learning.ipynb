{
  "cells": [
    {
      "cell_type": "markdown",
      "metadata": {},
      "source": [
        "# Supervised Learning For Risk Classification, Diabetic Identification, and Smoker Identification"
      ]
    },
    {
      "cell_type": "markdown",
      "metadata": {},
      "source": [
        "### By Ethan Clark and Riley Sayre\n",
        "For CWRU Data Analytics Bootcamp 2023."
      ]
    },
    {
      "cell_type": "markdown",
      "metadata": {
        "id": "vNYkvGsTlnZh"
      },
      "source": [
        "### Load Data"
      ]
    },
    {
      "cell_type": "code",
      "execution_count": 326,
      "metadata": {
        "colab": {
          "base_uri": "https://localhost:8080/",
          "height": 452
        },
        "id": "pm-AzocwlnZj",
        "outputId": "aa0789d5-b765-416d-ec70-85da0e0a135f"
      },
      "outputs": [
        {
          "data": {
            "text/html": [
              "<div>\n",
              "<style scoped>\n",
              "    .dataframe tbody tr th:only-of-type {\n",
              "        vertical-align: middle;\n",
              "    }\n",
              "\n",
              "    .dataframe tbody tr th {\n",
              "        vertical-align: top;\n",
              "    }\n",
              "\n",
              "    .dataframe thead th {\n",
              "        text-align: right;\n",
              "    }\n",
              "</style>\n",
              "<table border=\"1\" class=\"dataframe\">\n",
              "  <thead>\n",
              "    <tr style=\"text-align: right;\">\n",
              "      <th></th>\n",
              "      <th>index</th>\n",
              "      <th>PatientID</th>\n",
              "      <th>age</th>\n",
              "      <th>gender</th>\n",
              "      <th>bmi</th>\n",
              "      <th>bloodpressure</th>\n",
              "      <th>diabetic</th>\n",
              "      <th>children</th>\n",
              "      <th>smoker</th>\n",
              "      <th>region</th>\n",
              "      <th>claim</th>\n",
              "    </tr>\n",
              "  </thead>\n",
              "  <tbody>\n",
              "    <tr>\n",
              "      <th>0</th>\n",
              "      <td>0</td>\n",
              "      <td>1</td>\n",
              "      <td>39</td>\n",
              "      <td>male</td>\n",
              "      <td>23.2</td>\n",
              "      <td>91</td>\n",
              "      <td>Yes</td>\n",
              "      <td>0</td>\n",
              "      <td>No</td>\n",
              "      <td>southeast</td>\n",
              "      <td>1121.87</td>\n",
              "    </tr>\n",
              "    <tr>\n",
              "      <th>1</th>\n",
              "      <td>1</td>\n",
              "      <td>2</td>\n",
              "      <td>24</td>\n",
              "      <td>male</td>\n",
              "      <td>30.1</td>\n",
              "      <td>87</td>\n",
              "      <td>No</td>\n",
              "      <td>0</td>\n",
              "      <td>No</td>\n",
              "      <td>southeast</td>\n",
              "      <td>1131.51</td>\n",
              "    </tr>\n",
              "    <tr>\n",
              "      <th>2</th>\n",
              "      <td>7</td>\n",
              "      <td>8</td>\n",
              "      <td>19</td>\n",
              "      <td>male</td>\n",
              "      <td>41.1</td>\n",
              "      <td>100</td>\n",
              "      <td>No</td>\n",
              "      <td>0</td>\n",
              "      <td>No</td>\n",
              "      <td>northwest</td>\n",
              "      <td>1146.80</td>\n",
              "    </tr>\n",
              "    <tr>\n",
              "      <th>3</th>\n",
              "      <td>8</td>\n",
              "      <td>9</td>\n",
              "      <td>20</td>\n",
              "      <td>male</td>\n",
              "      <td>43.0</td>\n",
              "      <td>86</td>\n",
              "      <td>No</td>\n",
              "      <td>0</td>\n",
              "      <td>No</td>\n",
              "      <td>northwest</td>\n",
              "      <td>1149.40</td>\n",
              "    </tr>\n",
              "    <tr>\n",
              "      <th>4</th>\n",
              "      <td>9</td>\n",
              "      <td>10</td>\n",
              "      <td>30</td>\n",
              "      <td>male</td>\n",
              "      <td>53.1</td>\n",
              "      <td>97</td>\n",
              "      <td>No</td>\n",
              "      <td>0</td>\n",
              "      <td>No</td>\n",
              "      <td>northwest</td>\n",
              "      <td>1163.46</td>\n",
              "    </tr>\n",
              "  </tbody>\n",
              "</table>\n",
              "</div>"
            ],
            "text/plain": [
              "   index  PatientID  age gender   bmi  bloodpressure diabetic  children  \\\n",
              "0      0          1   39   male  23.2             91      Yes         0   \n",
              "1      1          2   24   male  30.1             87       No         0   \n",
              "2      7          8   19   male  41.1            100       No         0   \n",
              "3      8          9   20   male  43.0             86       No         0   \n",
              "4      9         10   30   male  53.1             97       No         0   \n",
              "\n",
              "  smoker     region    claim  \n",
              "0     No  southeast  1121.87  \n",
              "1     No  southeast  1131.51  \n",
              "2     No  northwest  1146.80  \n",
              "3     No  northwest  1149.40  \n",
              "4     No  northwest  1163.46  "
            ]
          },
          "execution_count": 326,
          "metadata": {},
          "output_type": "execute_result"
        }
      ],
      "source": [
        "# Import our dependencies\n",
        "from sklearn.model_selection import train_test_split\n",
        "from sklearn.preprocessing import StandardScaler\n",
        "from sklearn.linear_model import LinearRegression\n",
        "from sklearn.datasets import make_regression\n",
        "import pandas as pd\n",
        "import numpy as np\n",
        "import matplotlib.pyplot as plt\n",
        "\n",
        "\n",
        "#  Import and read the cleaned_data_seriously_forrealthistime.csv.\n",
        "import pandas as pd\n",
        "application_df = pd.read_csv(\"Resources/cleaned_data__seriously_forrealthistime.csv\")\n",
        "application_df.head()"
      ]
    },
    {
      "cell_type": "markdown",
      "metadata": {},
      "source": [
        "## Exploratory Data Analysis"
      ]
    },
    {
      "cell_type": "code",
      "execution_count": 327,
      "metadata": {},
      "outputs": [
        {
          "data": {
            "text/plain": [
              "No     695\n",
              "Yes    637\n",
              "Name: diabetic, dtype: int64"
            ]
          },
          "execution_count": 327,
          "metadata": {},
          "output_type": "execute_result"
        }
      ],
      "source": [
        "diab_check = application_df['diabetic'].value_counts()\n",
        "diab_check"
      ]
    },
    {
      "cell_type": "markdown",
      "metadata": {},
      "source": [
        "### Region Analysis"
      ]
    },
    {
      "cell_type": "code",
      "execution_count": 405,
      "metadata": {},
      "outputs": [],
      "source": [
        "region_df = application_df.drop(['index','PatientID'],axis=1)"
      ]
    },
    {
      "cell_type": "code",
      "execution_count": 406,
      "metadata": {},
      "outputs": [
        {
          "name": "stderr",
          "output_type": "stream",
          "text": [
            "C:\\Users\\ethan\\AppData\\Local\\Temp\\ipykernel_9336\\957404566.py:1: FutureWarning: ['gender', 'diabetic', 'smoker'] did not aggregate successfully. If any error is raised this will raise in a future version of pandas. Drop these columns/ops to avoid this warning.\n",
            "  region_df.groupby('region').agg(['mean','std','count'])\n"
          ]
        },
        {
          "data": {
            "text/html": [
              "<div>\n",
              "<style scoped>\n",
              "    .dataframe tbody tr th:only-of-type {\n",
              "        vertical-align: middle;\n",
              "    }\n",
              "\n",
              "    .dataframe tbody tr th {\n",
              "        vertical-align: top;\n",
              "    }\n",
              "\n",
              "    .dataframe thead tr th {\n",
              "        text-align: left;\n",
              "    }\n",
              "\n",
              "    .dataframe thead tr:last-of-type th {\n",
              "        text-align: right;\n",
              "    }\n",
              "</style>\n",
              "<table border=\"1\" class=\"dataframe\">\n",
              "  <thead>\n",
              "    <tr>\n",
              "      <th></th>\n",
              "      <th colspan=\"3\" halign=\"left\">age</th>\n",
              "      <th colspan=\"3\" halign=\"left\">bmi</th>\n",
              "      <th colspan=\"3\" halign=\"left\">bloodpressure</th>\n",
              "      <th colspan=\"3\" halign=\"left\">children</th>\n",
              "      <th colspan=\"3\" halign=\"left\">claim</th>\n",
              "    </tr>\n",
              "    <tr>\n",
              "      <th></th>\n",
              "      <th>mean</th>\n",
              "      <th>std</th>\n",
              "      <th>count</th>\n",
              "      <th>mean</th>\n",
              "      <th>std</th>\n",
              "      <th>count</th>\n",
              "      <th>mean</th>\n",
              "      <th>std</th>\n",
              "      <th>count</th>\n",
              "      <th>mean</th>\n",
              "      <th>std</th>\n",
              "      <th>count</th>\n",
              "      <th>mean</th>\n",
              "      <th>std</th>\n",
              "      <th>count</th>\n",
              "    </tr>\n",
              "    <tr>\n",
              "      <th>region</th>\n",
              "      <th></th>\n",
              "      <th></th>\n",
              "      <th></th>\n",
              "      <th></th>\n",
              "      <th></th>\n",
              "      <th></th>\n",
              "      <th></th>\n",
              "      <th></th>\n",
              "      <th></th>\n",
              "      <th></th>\n",
              "      <th></th>\n",
              "      <th></th>\n",
              "      <th></th>\n",
              "      <th></th>\n",
              "      <th></th>\n",
              "    </tr>\n",
              "  </thead>\n",
              "  <tbody>\n",
              "    <tr>\n",
              "      <th>northeast</th>\n",
              "      <td>38.064935</td>\n",
              "      <td>11.587104</td>\n",
              "      <td>231</td>\n",
              "      <td>29.363203</td>\n",
              "      <td>5.967782</td>\n",
              "      <td>231</td>\n",
              "      <td>95.722944</td>\n",
              "      <td>13.328992</td>\n",
              "      <td>231</td>\n",
              "      <td>1.017316</td>\n",
              "      <td>1.164569</td>\n",
              "      <td>231</td>\n",
              "      <td>16889.044719</td>\n",
              "      <td>11578.101476</td>\n",
              "      <td>231</td>\n",
              "    </tr>\n",
              "    <tr>\n",
              "      <th>northwest</th>\n",
              "      <td>37.707246</td>\n",
              "      <td>11.003360</td>\n",
              "      <td>345</td>\n",
              "      <td>29.202319</td>\n",
              "      <td>5.429821</td>\n",
              "      <td>345</td>\n",
              "      <td>92.994203</td>\n",
              "      <td>10.125088</td>\n",
              "      <td>345</td>\n",
              "      <td>1.086957</td>\n",
              "      <td>1.165631</td>\n",
              "      <td>345</td>\n",
              "      <td>11794.221855</td>\n",
              "      <td>11036.722585</td>\n",
              "      <td>345</td>\n",
              "    </tr>\n",
              "    <tr>\n",
              "      <th>southeast</th>\n",
              "      <td>38.579186</td>\n",
              "      <td>10.987906</td>\n",
              "      <td>442</td>\n",
              "      <td>32.387104</td>\n",
              "      <td>6.578022</td>\n",
              "      <td>442</td>\n",
              "      <td>94.398190</td>\n",
              "      <td>11.481812</td>\n",
              "      <td>442</td>\n",
              "      <td>1.097285</td>\n",
              "      <td>1.203563</td>\n",
              "      <td>442</td>\n",
              "      <td>13085.496833</td>\n",
              "      <td>13179.731930</td>\n",
              "      <td>442</td>\n",
              "    </tr>\n",
              "    <tr>\n",
              "      <th>southwest</th>\n",
              "      <td>37.824841</td>\n",
              "      <td>11.079060</td>\n",
              "      <td>314</td>\n",
              "      <td>30.777389</td>\n",
              "      <td>5.645261</td>\n",
              "      <td>314</td>\n",
              "      <td>94.079618</td>\n",
              "      <td>11.166044</td>\n",
              "      <td>314</td>\n",
              "      <td>1.178344</td>\n",
              "      <td>1.281489</td>\n",
              "      <td>314</td>\n",
              "      <td>12723.129841</td>\n",
              "      <td>11578.518764</td>\n",
              "      <td>314</td>\n",
              "    </tr>\n",
              "  </tbody>\n",
              "</table>\n",
              "</div>"
            ],
            "text/plain": [
              "                 age                         bmi                  \\\n",
              "                mean        std count       mean       std count   \n",
              "region                                                             \n",
              "northeast  38.064935  11.587104   231  29.363203  5.967782   231   \n",
              "northwest  37.707246  11.003360   345  29.202319  5.429821   345   \n",
              "southeast  38.579186  10.987906   442  32.387104  6.578022   442   \n",
              "southwest  37.824841  11.079060   314  30.777389  5.645261   314   \n",
              "\n",
              "          bloodpressure                   children                  \\\n",
              "                   mean        std count      mean       std count   \n",
              "region                                                               \n",
              "northeast     95.722944  13.328992   231  1.017316  1.164569   231   \n",
              "northwest     92.994203  10.125088   345  1.086957  1.165631   345   \n",
              "southeast     94.398190  11.481812   442  1.097285  1.203563   442   \n",
              "southwest     94.079618  11.166044   314  1.178344  1.281489   314   \n",
              "\n",
              "                  claim                      \n",
              "                   mean           std count  \n",
              "region                                       \n",
              "northeast  16889.044719  11578.101476   231  \n",
              "northwest  11794.221855  11036.722585   345  \n",
              "southeast  13085.496833  13179.731930   442  \n",
              "southwest  12723.129841  11578.518764   314  "
            ]
          },
          "execution_count": 406,
          "metadata": {},
          "output_type": "execute_result"
        }
      ],
      "source": [
        "region_df.groupby('region').agg(['mean','std','count'])"
      ]
    },
    {
      "cell_type": "markdown",
      "metadata": {},
      "source": [
        "Looks like the northeast is the leader in claim amounts with the least amount of subscribers. Would recommend pricing them separately with reduced benefits with an HSA."
      ]
    },
    {
      "cell_type": "markdown",
      "metadata": {},
      "source": [
        "Let's look at how the children are distributed"
      ]
    },
    {
      "cell_type": "code",
      "execution_count": 328,
      "metadata": {},
      "outputs": [
        {
          "data": {
            "image/png": "[encoded data removed]",
            "text/plain": [
              "<Figure size 640x480 with 1 Axes>"
            ]
          },
          "metadata": {},
          "output_type": "display_data"
        }
      ],
      "source": [
        "\n",
        "#Plotting the Distribution of Children\n",
        "children_check = application_df['children'].value_counts()\n",
        "n = children_check.nunique()\n",
        "Ch_Hist = plt.hist(application_df['children'],bins=n,density=True,histtype=\"step\",label=\"CDF of Children\")\n",
        "plt.title('Distribution of Children')\n",
        "ax = plt.gca()\n",
        "plt.show()"
      ]
    },
    {
      "cell_type": "markdown",
      "metadata": {},
      "source": [
        "Let's do a spot check the relation between children and claim amounts"
      ]
    },
    {
      "cell_type": "code",
      "execution_count": 407,
      "metadata": {},
      "outputs": [],
      "source": [
        "kid_df = application_df.drop(['index','PatientID'],axis=1)"
      ]
    },
    {
      "cell_type": "code",
      "execution_count": 408,
      "metadata": {},
      "outputs": [
        {
          "name": "stderr",
          "output_type": "stream",
          "text": [
            "C:\\Users\\ethan\\AppData\\Local\\Temp\\ipykernel_9336\\3729892924.py:1: FutureWarning: ['gender', 'diabetic', 'smoker', 'region'] did not aggregate successfully. If any error is raised this will raise in a future version of pandas. Drop these columns/ops to avoid this warning.\n",
            "  kid_df.groupby('children').agg(['mean','std','count'])\n"
          ]
        },
        {
          "data": {
            "text/html": [
              "<div>\n",
              "<style scoped>\n",
              "    .dataframe tbody tr th:only-of-type {\n",
              "        vertical-align: middle;\n",
              "    }\n",
              "\n",
              "    .dataframe tbody tr th {\n",
              "        vertical-align: top;\n",
              "    }\n",
              "\n",
              "    .dataframe thead tr th {\n",
              "        text-align: left;\n",
              "    }\n",
              "\n",
              "    .dataframe thead tr:last-of-type th {\n",
              "        text-align: right;\n",
              "    }\n",
              "</style>\n",
              "<table border=\"1\" class=\"dataframe\">\n",
              "  <thead>\n",
              "    <tr>\n",
              "      <th></th>\n",
              "      <th colspan=\"3\" halign=\"left\">age</th>\n",
              "      <th colspan=\"3\" halign=\"left\">bmi</th>\n",
              "      <th colspan=\"3\" halign=\"left\">bloodpressure</th>\n",
              "      <th colspan=\"3\" halign=\"left\">claim</th>\n",
              "    </tr>\n",
              "    <tr>\n",
              "      <th></th>\n",
              "      <th>mean</th>\n",
              "      <th>std</th>\n",
              "      <th>count</th>\n",
              "      <th>mean</th>\n",
              "      <th>std</th>\n",
              "      <th>count</th>\n",
              "      <th>mean</th>\n",
              "      <th>std</th>\n",
              "      <th>count</th>\n",
              "      <th>mean</th>\n",
              "      <th>std</th>\n",
              "      <th>count</th>\n",
              "    </tr>\n",
              "    <tr>\n",
              "      <th>children</th>\n",
              "      <th></th>\n",
              "      <th></th>\n",
              "      <th></th>\n",
              "      <th></th>\n",
              "      <th></th>\n",
              "      <th></th>\n",
              "      <th></th>\n",
              "      <th></th>\n",
              "      <th></th>\n",
              "      <th></th>\n",
              "      <th></th>\n",
              "      <th></th>\n",
              "    </tr>\n",
              "  </thead>\n",
              "  <tbody>\n",
              "    <tr>\n",
              "      <th>0</th>\n",
              "      <td>38.294014</td>\n",
              "      <td>10.927523</td>\n",
              "      <td>568</td>\n",
              "      <td>30.535563</td>\n",
              "      <td>6.087771</td>\n",
              "      <td>568</td>\n",
              "      <td>94.258803</td>\n",
              "      <td>11.814032</td>\n",
              "      <td>568</td>\n",
              "      <td>12484.987923</td>\n",
              "      <td>12030.479564</td>\n",
              "      <td>568</td>\n",
              "    </tr>\n",
              "    <tr>\n",
              "      <th>1</th>\n",
              "      <td>38.574074</td>\n",
              "      <td>11.192272</td>\n",
              "      <td>324</td>\n",
              "      <td>30.623765</td>\n",
              "      <td>6.099888</td>\n",
              "      <td>324</td>\n",
              "      <td>94.506173</td>\n",
              "      <td>11.019401</td>\n",
              "      <td>324</td>\n",
              "      <td>12731.171821</td>\n",
              "      <td>11823.631341</td>\n",
              "      <td>324</td>\n",
              "    </tr>\n",
              "    <tr>\n",
              "      <th>2</th>\n",
              "      <td>37.325000</td>\n",
              "      <td>11.449480</td>\n",
              "      <td>240</td>\n",
              "      <td>30.979167</td>\n",
              "      <td>6.509965</td>\n",
              "      <td>240</td>\n",
              "      <td>94.662500</td>\n",
              "      <td>11.416728</td>\n",
              "      <td>240</td>\n",
              "      <td>15073.564000</td>\n",
              "      <td>12891.368314</td>\n",
              "      <td>240</td>\n",
              "    </tr>\n",
              "    <tr>\n",
              "      <th>3</th>\n",
              "      <td>37.318471</td>\n",
              "      <td>11.091137</td>\n",
              "      <td>157</td>\n",
              "      <td>30.688535</td>\n",
              "      <td>5.787143</td>\n",
              "      <td>157</td>\n",
              "      <td>93.273885</td>\n",
              "      <td>11.881688</td>\n",
              "      <td>157</td>\n",
              "      <td>15355.318535</td>\n",
              "      <td>12330.869474</td>\n",
              "      <td>157</td>\n",
              "    </tr>\n",
              "    <tr>\n",
              "      <th>4</th>\n",
              "      <td>39.480000</td>\n",
              "      <td>10.770794</td>\n",
              "      <td>25</td>\n",
              "      <td>31.388000</td>\n",
              "      <td>4.629824</td>\n",
              "      <td>25</td>\n",
              "      <td>92.960000</td>\n",
              "      <td>7.231182</td>\n",
              "      <td>25</td>\n",
              "      <td>13850.656800</td>\n",
              "      <td>9139.223594</td>\n",
              "      <td>25</td>\n",
              "    </tr>\n",
              "    <tr>\n",
              "      <th>5</th>\n",
              "      <td>37.666667</td>\n",
              "      <td>12.160689</td>\n",
              "      <td>18</td>\n",
              "      <td>29.600000</td>\n",
              "      <td>7.145463</td>\n",
              "      <td>18</td>\n",
              "      <td>89.666667</td>\n",
              "      <td>7.420163</td>\n",
              "      <td>18</td>\n",
              "      <td>8786.035556</td>\n",
              "      <td>3808.434648</td>\n",
              "      <td>18</td>\n",
              "    </tr>\n",
              "  </tbody>\n",
              "</table>\n",
              "</div>"
            ],
            "text/plain": [
              "                age                         bmi                 bloodpressure  \\\n",
              "               mean        std count       mean       std count          mean   \n",
              "children                                                                        \n",
              "0         38.294014  10.927523   568  30.535563  6.087771   568     94.258803   \n",
              "1         38.574074  11.192272   324  30.623765  6.099888   324     94.506173   \n",
              "2         37.325000  11.449480   240  30.979167  6.509965   240     94.662500   \n",
              "3         37.318471  11.091137   157  30.688535  5.787143   157     93.273885   \n",
              "4         39.480000  10.770794    25  31.388000  4.629824    25     92.960000   \n",
              "5         37.666667  12.160689    18  29.600000  7.145463    18     89.666667   \n",
              "\n",
              "                                  claim                      \n",
              "                std count          mean           std count  \n",
              "children                                                     \n",
              "0         11.814032   568  12484.987923  12030.479564   568  \n",
              "1         11.019401   324  12731.171821  11823.631341   324  \n",
              "2         11.416728   240  15073.564000  12891.368314   240  \n",
              "3         11.881688   157  15355.318535  12330.869474   157  \n",
              "4          7.231182    25  13850.656800   9139.223594    25  \n",
              "5          7.420163    18   8786.035556   3808.434648    18  "
            ]
          },
          "execution_count": 408,
          "metadata": {},
          "output_type": "execute_result"
        }
      ],
      "source": [
        "kid_df.groupby('children').agg(['mean','std','count'])"
      ]
    },
    {
      "cell_type": "markdown",
      "metadata": {},
      "source": [
        "No crazy differences in claims amounts based on two tailed chernoff's inequality. Won't bore you with that!"
      ]
    },
    {
      "cell_type": "markdown",
      "metadata": {},
      "source": [
        "Let's look at how age is distributed"
      ]
    },
    {
      "cell_type": "code",
      "execution_count": 329,
      "metadata": {},
      "outputs": [
        {
          "data": {
            "image/png": "[encoded data removed]",
            "text/plain": [
              "<Figure size 640x480 with 1 Axes>"
            ]
          },
          "metadata": {},
          "output_type": "display_data"
        }
      ],
      "source": [
        "#Plotting the distribution of Age\n",
        "age_check = application_df['age'].value_counts()\n",
        "n = age_check.nunique()\n",
        "Age_Hist = plt.hist(application_df['age'],bins=n,density=True,histtype=\"step\")\n",
        "plt.title('Distribution of Age')\n",
        "axAge = plt.gca()\n",
        "plt.show()"
      ]
    },
    {
      "cell_type": "markdown",
      "metadata": {},
      "source": [
        "Let's check the overall claims distribution"
      ]
    },
    {
      "cell_type": "code",
      "execution_count": 330,
      "metadata": {},
      "outputs": [],
      "source": [
        "# Look at claim value counts for binning\n",
        "claim_amnts = application_df['claim'].value_counts()\n",
        "m = claim_amnts.size"
      ]
    },
    {
      "cell_type": "code",
      "execution_count": 331,
      "metadata": {},
      "outputs": [
        {
          "data": {
            "image/png": "[encoded data removed]",
            "text/plain": [
              "<Figure size 640x480 with 1 Axes>"
            ]
          },
          "metadata": {},
          "output_type": "display_data"
        }
      ],
      "source": [
        "#Plotting the distribution of Claims\n",
        "bin_count = int(m/10)\n",
        "Claim_Hist = plt.hist(application_df['claim'],bins=bin_count,density=False,histtype=\"step\")\n",
        "plt.title('Distribution of Claims')\n",
        "plt.show()"
      ]
    },
    {
      "cell_type": "markdown",
      "metadata": {},
      "source": [
        "## Data Preprocessing"
      ]
    },
    {
      "cell_type": "code",
      "execution_count": 332,
      "metadata": {},
      "outputs": [],
      "source": [
        "# Using get dummies on gender, diabetic, smoker, and region.\n",
        "gen_dummies = pd.get_dummies(application_df['gender'],)\n",
        "diab_dummies = pd.get_dummies(application_df['diabetic'],prefix='Diabetic?')\n",
        "smonk_dummies = pd.get_dummies(application_df['smoker'],prefix='Smoker?')\n",
        "region_dumies = pd.get_dummies(application_df['region'])"
      ]
    },
    {
      "cell_type": "code",
      "execution_count": 333,
      "metadata": {},
      "outputs": [
        {
          "data": {
            "text/html": [
              "<div>\n",
              "<style scoped>\n",
              "    .dataframe tbody tr th:only-of-type {\n",
              "        vertical-align: middle;\n",
              "    }\n",
              "\n",
              "    .dataframe tbody tr th {\n",
              "        vertical-align: top;\n",
              "    }\n",
              "\n",
              "    .dataframe thead th {\n",
              "        text-align: right;\n",
              "    }\n",
              "</style>\n",
              "<table border=\"1\" class=\"dataframe\">\n",
              "  <thead>\n",
              "    <tr style=\"text-align: right;\">\n",
              "      <th></th>\n",
              "      <th>age</th>\n",
              "      <th>bmi</th>\n",
              "      <th>bloodpressure</th>\n",
              "      <th>children</th>\n",
              "      <th>claim</th>\n",
              "    </tr>\n",
              "  </thead>\n",
              "  <tbody>\n",
              "    <tr>\n",
              "      <th>0</th>\n",
              "      <td>39</td>\n",
              "      <td>23.2</td>\n",
              "      <td>91</td>\n",
              "      <td>0</td>\n",
              "      <td>1121.87</td>\n",
              "    </tr>\n",
              "    <tr>\n",
              "      <th>1</th>\n",
              "      <td>24</td>\n",
              "      <td>30.1</td>\n",
              "      <td>87</td>\n",
              "      <td>0</td>\n",
              "      <td>1131.51</td>\n",
              "    </tr>\n",
              "    <tr>\n",
              "      <th>2</th>\n",
              "      <td>19</td>\n",
              "      <td>41.1</td>\n",
              "      <td>100</td>\n",
              "      <td>0</td>\n",
              "      <td>1146.80</td>\n",
              "    </tr>\n",
              "    <tr>\n",
              "      <th>3</th>\n",
              "      <td>20</td>\n",
              "      <td>43.0</td>\n",
              "      <td>86</td>\n",
              "      <td>0</td>\n",
              "      <td>1149.40</td>\n",
              "    </tr>\n",
              "    <tr>\n",
              "      <th>4</th>\n",
              "      <td>30</td>\n",
              "      <td>53.1</td>\n",
              "      <td>97</td>\n",
              "      <td>0</td>\n",
              "      <td>1163.46</td>\n",
              "    </tr>\n",
              "  </tbody>\n",
              "</table>\n",
              "</div>"
            ],
            "text/plain": [
              "   age   bmi  bloodpressure  children    claim\n",
              "0   39  23.2             91         0  1121.87\n",
              "1   24  30.1             87         0  1131.51\n",
              "2   19  41.1            100         0  1146.80\n",
              "3   20  43.0             86         0  1149.40\n",
              "4   30  53.1             97         0  1163.46"
            ]
          },
          "execution_count": 333,
          "metadata": {},
          "output_type": "execute_result"
        }
      ],
      "source": [
        "# dropping the columns used for dummies, Patient ID and Index then concatenating the new dummies columns on\n",
        "drop_df = application_df.drop(['gender','diabetic','smoker','region','index','PatientID'],axis=1)\n",
        "drop_df.head()"
      ]
    },
    {
      "cell_type": "code",
      "execution_count": 334,
      "metadata": {},
      "outputs": [
        {
          "data": {
            "text/html": [
              "<div>\n",
              "<style scoped>\n",
              "    .dataframe tbody tr th:only-of-type {\n",
              "        vertical-align: middle;\n",
              "    }\n",
              "\n",
              "    .dataframe tbody tr th {\n",
              "        vertical-align: top;\n",
              "    }\n",
              "\n",
              "    .dataframe thead th {\n",
              "        text-align: right;\n",
              "    }\n",
              "</style>\n",
              "<table border=\"1\" class=\"dataframe\">\n",
              "  <thead>\n",
              "    <tr style=\"text-align: right;\">\n",
              "      <th></th>\n",
              "      <th>age</th>\n",
              "      <th>bmi</th>\n",
              "      <th>bloodpressure</th>\n",
              "      <th>children</th>\n",
              "      <th>claim</th>\n",
              "      <th>female</th>\n",
              "      <th>male</th>\n",
              "      <th>Diabetic?_No</th>\n",
              "      <th>Diabetic?_Yes</th>\n",
              "      <th>Smoker?_No</th>\n",
              "      <th>Smoker?_Yes</th>\n",
              "      <th>northeast</th>\n",
              "      <th>northwest</th>\n",
              "      <th>southeast</th>\n",
              "      <th>southwest</th>\n",
              "    </tr>\n",
              "  </thead>\n",
              "  <tbody>\n",
              "    <tr>\n",
              "      <th>0</th>\n",
              "      <td>39</td>\n",
              "      <td>23.2</td>\n",
              "      <td>91</td>\n",
              "      <td>0</td>\n",
              "      <td>1121</td>\n",
              "      <td>0</td>\n",
              "      <td>1</td>\n",
              "      <td>0</td>\n",
              "      <td>1</td>\n",
              "      <td>1</td>\n",
              "      <td>0</td>\n",
              "      <td>0</td>\n",
              "      <td>0</td>\n",
              "      <td>1</td>\n",
              "      <td>0</td>\n",
              "    </tr>\n",
              "    <tr>\n",
              "      <th>1</th>\n",
              "      <td>24</td>\n",
              "      <td>30.1</td>\n",
              "      <td>87</td>\n",
              "      <td>0</td>\n",
              "      <td>1131</td>\n",
              "      <td>0</td>\n",
              "      <td>1</td>\n",
              "      <td>1</td>\n",
              "      <td>0</td>\n",
              "      <td>1</td>\n",
              "      <td>0</td>\n",
              "      <td>0</td>\n",
              "      <td>0</td>\n",
              "      <td>1</td>\n",
              "      <td>0</td>\n",
              "    </tr>\n",
              "    <tr>\n",
              "      <th>2</th>\n",
              "      <td>19</td>\n",
              "      <td>41.1</td>\n",
              "      <td>100</td>\n",
              "      <td>0</td>\n",
              "      <td>1146</td>\n",
              "      <td>0</td>\n",
              "      <td>1</td>\n",
              "      <td>1</td>\n",
              "      <td>0</td>\n",
              "      <td>1</td>\n",
              "      <td>0</td>\n",
              "      <td>0</td>\n",
              "      <td>1</td>\n",
              "      <td>0</td>\n",
              "      <td>0</td>\n",
              "    </tr>\n",
              "    <tr>\n",
              "      <th>3</th>\n",
              "      <td>20</td>\n",
              "      <td>43.0</td>\n",
              "      <td>86</td>\n",
              "      <td>0</td>\n",
              "      <td>1149</td>\n",
              "      <td>0</td>\n",
              "      <td>1</td>\n",
              "      <td>1</td>\n",
              "      <td>0</td>\n",
              "      <td>1</td>\n",
              "      <td>0</td>\n",
              "      <td>0</td>\n",
              "      <td>1</td>\n",
              "      <td>0</td>\n",
              "      <td>0</td>\n",
              "    </tr>\n",
              "    <tr>\n",
              "      <th>4</th>\n",
              "      <td>30</td>\n",
              "      <td>53.1</td>\n",
              "      <td>97</td>\n",
              "      <td>0</td>\n",
              "      <td>1163</td>\n",
              "      <td>0</td>\n",
              "      <td>1</td>\n",
              "      <td>1</td>\n",
              "      <td>0</td>\n",
              "      <td>1</td>\n",
              "      <td>0</td>\n",
              "      <td>0</td>\n",
              "      <td>1</td>\n",
              "      <td>0</td>\n",
              "      <td>0</td>\n",
              "    </tr>\n",
              "  </tbody>\n",
              "</table>\n",
              "</div>"
            ],
            "text/plain": [
              "   age   bmi  bloodpressure  children  claim  female  male  Diabetic?_No  \\\n",
              "0   39  23.2             91         0   1121       0     1             0   \n",
              "1   24  30.1             87         0   1131       0     1             1   \n",
              "2   19  41.1            100         0   1146       0     1             1   \n",
              "3   20  43.0             86         0   1149       0     1             1   \n",
              "4   30  53.1             97         0   1163       0     1             1   \n",
              "\n",
              "   Diabetic?_Yes  Smoker?_No  Smoker?_Yes  northeast  northwest  southeast  \\\n",
              "0              1           1            0          0          0          1   \n",
              "1              0           1            0          0          0          1   \n",
              "2              0           1            0          0          1          0   \n",
              "3              0           1            0          0          1          0   \n",
              "4              0           1            0          0          1          0   \n",
              "\n",
              "   southwest  \n",
              "0          0  \n",
              "1          0  \n",
              "2          0  \n",
              "3          0  \n",
              "4          0  "
            ]
          },
          "execution_count": 334,
          "metadata": {},
          "output_type": "execute_result"
        }
      ],
      "source": [
        "#Add the Dummies in\n",
        "clean_df = pd.concat([drop_df,gen_dummies,diab_dummies,smonk_dummies,region_dumies],axis=1)\n",
        "#Round the claim amounts to the dollar\n",
        "clean_df = clean_df.astype({'claim':'int'})\n",
        "#Check the Df\n",
        "clean_df.head()"
      ]
    },
    {
      "cell_type": "code",
      "execution_count": 335,
      "metadata": {
        "colab": {
          "base_uri": "https://localhost:8080/"
        },
        "id": "uarjMez5lnZk",
        "outputId": "b76f3c3d-bd25-421e-8acc-097d1985571d"
      },
      "outputs": [
        {
          "data": {
            "text/plain": [
              "age                43\n",
              "bmi               275\n",
              "bloodpressure      61\n",
              "children            6\n",
              "claim            1278\n",
              "female              2\n",
              "male                2\n",
              "Diabetic?_No        2\n",
              "Diabetic?_Yes       2\n",
              "Smoker?_No          2\n",
              "Smoker?_Yes         2\n",
              "northeast           2\n",
              "northwest           2\n",
              "southeast           2\n",
              "southwest           2\n",
              "dtype: int64"
            ]
          },
          "execution_count": 335,
          "metadata": {},
          "output_type": "execute_result"
        }
      ],
      "source": [
        "# Determine the number of unique values in each column.\n",
        "categories = clean_df.dtypes.index.tolist()\n",
        "clean_df[categories].nunique()"
      ]
    },
    {
      "cell_type": "code",
      "execution_count": 336,
      "metadata": {},
      "outputs": [
        {
          "name": "stdout",
          "output_type": "stream",
          "text": [
            "[9412.5, 41350.8]\n"
          ]
        }
      ],
      "source": [
        "# Making Risk Bands For Clustering\n",
        "[Risk1,Risk2] = np.around(clean_df['claim'].quantile([0.50,0.95]),decimals=2,out=None)\n",
        "print([Risk1,Risk2])"
      ]
    },
    {
      "cell_type": "markdown",
      "metadata": {},
      "source": [
        "## Claims Risk Clustering"
      ]
    },
    {
      "cell_type": "markdown",
      "metadata": {},
      "source": [
        "### 3 Risk Class Bin Structure"
      ]
    },
    {
      "cell_type": "code",
      "execution_count": 369,
      "metadata": {},
      "outputs": [
        {
          "data": {
            "text/html": [
              "<div>\n",
              "<style scoped>\n",
              "    .dataframe tbody tr th:only-of-type {\n",
              "        vertical-align: middle;\n",
              "    }\n",
              "\n",
              "    .dataframe tbody tr th {\n",
              "        vertical-align: top;\n",
              "    }\n",
              "\n",
              "    .dataframe thead th {\n",
              "        text-align: right;\n",
              "    }\n",
              "</style>\n",
              "<table border=\"1\" class=\"dataframe\">\n",
              "  <thead>\n",
              "    <tr style=\"text-align: right;\">\n",
              "      <th></th>\n",
              "      <th>Low Risk</th>\n",
              "      <th>Medium Risk</th>\n",
              "      <th>High Risk</th>\n",
              "    </tr>\n",
              "  </thead>\n",
              "  <tbody>\n",
              "    <tr>\n",
              "      <th>Claims Under</th>\n",
              "      <td>9412.5</td>\n",
              "      <td>41350.8</td>\n",
              "      <td>inf</td>\n",
              "    </tr>\n",
              "    <tr>\n",
              "      <th>Claims Between</th>\n",
              "      <td>0 - 9412.5</td>\n",
              "      <td>9412.5 - 41350.8</td>\n",
              "      <td>41350.8 - inf</td>\n",
              "    </tr>\n",
              "    <tr>\n",
              "      <th>Claims Over</th>\n",
              "      <td>0</td>\n",
              "      <td>9412.5</td>\n",
              "      <td>41350.8</td>\n",
              "    </tr>\n",
              "    <tr>\n",
              "      <th>Cluster #</th>\n",
              "      <td>1</td>\n",
              "      <td>2</td>\n",
              "      <td>3</td>\n",
              "    </tr>\n",
              "  </tbody>\n",
              "</table>\n",
              "</div>"
            ],
            "text/plain": [
              "                  Low Risk       Medium Risk      High Risk\n",
              "Claims Under        9412.5           41350.8            inf\n",
              "Claims Between  0 - 9412.5  9412.5 - 41350.8  41350.8 - inf\n",
              "Claims Over              0            9412.5        41350.8\n",
              "Cluster #                1                 2              3"
            ]
          },
          "execution_count": 369,
          "metadata": {},
          "output_type": "execute_result"
        }
      ],
      "source": [
        "# Displaying Bin Structure\n",
        "RiskMatrix = pd.DataFrame({'Low Risk':[Risk1,'0 - '+str(Risk1),0,1],\n",
        "                            'Medium Risk':[Risk2,str(Risk1)+' - '+str(Risk2),Risk1,2],\n",
        "                            'High Risk':['inf',str(Risk2)+' - '+'inf',Risk2,3]},\n",
        "                            index=['Claims Under','Claims Between','Claims Over','Cluster #'])\n",
        "\n",
        "RiskMatrix\n"
      ]
    },
    {
      "cell_type": "markdown",
      "metadata": {},
      "source": [
        "### 2 Risk Class Bin Structure"
      ]
    },
    {
      "cell_type": "code",
      "execution_count": 370,
      "metadata": {},
      "outputs": [
        {
          "data": {
            "text/html": [
              "<div>\n",
              "<style scoped>\n",
              "    .dataframe tbody tr th:only-of-type {\n",
              "        vertical-align: middle;\n",
              "    }\n",
              "\n",
              "    .dataframe tbody tr th {\n",
              "        vertical-align: top;\n",
              "    }\n",
              "\n",
              "    .dataframe thead th {\n",
              "        text-align: right;\n",
              "    }\n",
              "</style>\n",
              "<table border=\"1\" class=\"dataframe\">\n",
              "  <thead>\n",
              "    <tr style=\"text-align: right;\">\n",
              "      <th></th>\n",
              "      <th>Low Risk</th>\n",
              "      <th>High Risk</th>\n",
              "    </tr>\n",
              "  </thead>\n",
              "  <tbody>\n",
              "    <tr>\n",
              "      <th>Claims Under</th>\n",
              "      <td>9412.5</td>\n",
              "      <td>inf</td>\n",
              "    </tr>\n",
              "    <tr>\n",
              "      <th>Claims Between</th>\n",
              "      <td>0 - 9412.5</td>\n",
              "      <td>9412.5 - inf</td>\n",
              "    </tr>\n",
              "    <tr>\n",
              "      <th>Claims Over</th>\n",
              "      <td>0</td>\n",
              "      <td>9412.5</td>\n",
              "    </tr>\n",
              "    <tr>\n",
              "      <th>Cluster #</th>\n",
              "      <td>1</td>\n",
              "      <td>2</td>\n",
              "    </tr>\n",
              "  </tbody>\n",
              "</table>\n",
              "</div>"
            ],
            "text/plain": [
              "                  Low Risk     High Risk\n",
              "Claims Under        9412.5           inf\n",
              "Claims Between  0 - 9412.5  9412.5 - inf\n",
              "Claims Over              0        9412.5\n",
              "Cluster #                1             2"
            ]
          },
          "execution_count": 370,
          "metadata": {},
          "output_type": "execute_result"
        }
      ],
      "source": [
        "# Displaying Bin Structure\n",
        "RiskMatrix2 = pd.DataFrame({'Low Risk':[Risk1,'0 - '+str(Risk1),0,1],\n",
        "                            'High Risk':['inf',str(Risk1)+' - '+'inf',Risk1,2]},\n",
        "                            index=['Claims Under','Claims Between','Claims Over','Cluster #'])\n",
        "\n",
        "RiskMatrix2"
      ]
    },
    {
      "cell_type": "markdown",
      "metadata": {},
      "source": [
        "### Claim Bin Functions"
      ]
    },
    {
      "cell_type": "code",
      "execution_count": 338,
      "metadata": {},
      "outputs": [],
      "source": [
        "#Claim classifying functions\n",
        "def Risk_Classify3 (x):\n",
        "    if x <= Risk1:\n",
        "        y = 1\n",
        "    elif x <= Risk2:\n",
        "        y = 2\n",
        "    else:\n",
        "        y = 3\n",
        "    return (y)\n",
        "\n",
        "def Risk_Classify2 (x):\n",
        "    if x <= Risk1:\n",
        "        y = 1\n",
        "    else:\n",
        "        y = 2\n",
        "    return (y)"
      ]
    },
    {
      "cell_type": "markdown",
      "metadata": {},
      "source": [
        "### DataFrame Copying & Splitting "
      ]
    },
    {
      "cell_type": "code",
      "execution_count": 339,
      "metadata": {},
      "outputs": [
        {
          "data": {
            "text/html": [
              "<div>\n",
              "<style scoped>\n",
              "    .dataframe tbody tr th:only-of-type {\n",
              "        vertical-align: middle;\n",
              "    }\n",
              "\n",
              "    .dataframe tbody tr th {\n",
              "        vertical-align: top;\n",
              "    }\n",
              "\n",
              "    .dataframe thead th {\n",
              "        text-align: right;\n",
              "    }\n",
              "</style>\n",
              "<table border=\"1\" class=\"dataframe\">\n",
              "  <thead>\n",
              "    <tr style=\"text-align: right;\">\n",
              "      <th></th>\n",
              "      <th>age</th>\n",
              "      <th>bmi</th>\n",
              "      <th>bloodpressure</th>\n",
              "      <th>children</th>\n",
              "      <th>claim</th>\n",
              "      <th>female</th>\n",
              "      <th>male</th>\n",
              "      <th>Diabetic?_No</th>\n",
              "      <th>Diabetic?_Yes</th>\n",
              "      <th>Smoker?_No</th>\n",
              "      <th>Smoker?_Yes</th>\n",
              "      <th>northeast</th>\n",
              "      <th>northwest</th>\n",
              "      <th>southeast</th>\n",
              "      <th>southwest</th>\n",
              "    </tr>\n",
              "  </thead>\n",
              "  <tbody>\n",
              "    <tr>\n",
              "      <th>0</th>\n",
              "      <td>39</td>\n",
              "      <td>23.2</td>\n",
              "      <td>91</td>\n",
              "      <td>0</td>\n",
              "      <td>1</td>\n",
              "      <td>0</td>\n",
              "      <td>1</td>\n",
              "      <td>0</td>\n",
              "      <td>1</td>\n",
              "      <td>1</td>\n",
              "      <td>0</td>\n",
              "      <td>0</td>\n",
              "      <td>0</td>\n",
              "      <td>1</td>\n",
              "      <td>0</td>\n",
              "    </tr>\n",
              "    <tr>\n",
              "      <th>1</th>\n",
              "      <td>24</td>\n",
              "      <td>30.1</td>\n",
              "      <td>87</td>\n",
              "      <td>0</td>\n",
              "      <td>1</td>\n",
              "      <td>0</td>\n",
              "      <td>1</td>\n",
              "      <td>1</td>\n",
              "      <td>0</td>\n",
              "      <td>1</td>\n",
              "      <td>0</td>\n",
              "      <td>0</td>\n",
              "      <td>0</td>\n",
              "      <td>1</td>\n",
              "      <td>0</td>\n",
              "    </tr>\n",
              "    <tr>\n",
              "      <th>2</th>\n",
              "      <td>19</td>\n",
              "      <td>41.1</td>\n",
              "      <td>100</td>\n",
              "      <td>0</td>\n",
              "      <td>1</td>\n",
              "      <td>0</td>\n",
              "      <td>1</td>\n",
              "      <td>1</td>\n",
              "      <td>0</td>\n",
              "      <td>1</td>\n",
              "      <td>0</td>\n",
              "      <td>0</td>\n",
              "      <td>1</td>\n",
              "      <td>0</td>\n",
              "      <td>0</td>\n",
              "    </tr>\n",
              "    <tr>\n",
              "      <th>3</th>\n",
              "      <td>20</td>\n",
              "      <td>43.0</td>\n",
              "      <td>86</td>\n",
              "      <td>0</td>\n",
              "      <td>1</td>\n",
              "      <td>0</td>\n",
              "      <td>1</td>\n",
              "      <td>1</td>\n",
              "      <td>0</td>\n",
              "      <td>1</td>\n",
              "      <td>0</td>\n",
              "      <td>0</td>\n",
              "      <td>1</td>\n",
              "      <td>0</td>\n",
              "      <td>0</td>\n",
              "    </tr>\n",
              "    <tr>\n",
              "      <th>4</th>\n",
              "      <td>30</td>\n",
              "      <td>53.1</td>\n",
              "      <td>97</td>\n",
              "      <td>0</td>\n",
              "      <td>1</td>\n",
              "      <td>0</td>\n",
              "      <td>1</td>\n",
              "      <td>1</td>\n",
              "      <td>0</td>\n",
              "      <td>1</td>\n",
              "      <td>0</td>\n",
              "      <td>0</td>\n",
              "      <td>1</td>\n",
              "      <td>0</td>\n",
              "      <td>0</td>\n",
              "    </tr>\n",
              "  </tbody>\n",
              "</table>\n",
              "</div>"
            ],
            "text/plain": [
              "   age   bmi  bloodpressure  children  claim  female  male  Diabetic?_No  \\\n",
              "0   39  23.2             91         0      1       0     1             0   \n",
              "1   24  30.1             87         0      1       0     1             1   \n",
              "2   19  41.1            100         0      1       0     1             1   \n",
              "3   20  43.0             86         0      1       0     1             1   \n",
              "4   30  53.1             97         0      1       0     1             1   \n",
              "\n",
              "   Diabetic?_Yes  Smoker?_No  Smoker?_Yes  northeast  northwest  southeast  \\\n",
              "0              1           1            0          0          0          1   \n",
              "1              0           1            0          0          0          1   \n",
              "2              0           1            0          0          1          0   \n",
              "3              0           1            0          0          1          0   \n",
              "4              0           1            0          0          1          0   \n",
              "\n",
              "   southwest  \n",
              "0          0  \n",
              "1          0  \n",
              "2          0  \n",
              "3          0  \n",
              "4          0  "
            ]
          },
          "execution_count": 339,
          "metadata": {},
          "output_type": "execute_result"
        }
      ],
      "source": [
        "#Classifying Claim amounts into the three clusters\n",
        "#copy to a new dataframe\n",
        "train_df3 = clean_df.copy()\n",
        "train_df3['claim'] = train_df3['claim'].apply(Risk_Classify3)\n",
        "train_df3.head()"
      ]
    },
    {
      "cell_type": "code",
      "execution_count": 340,
      "metadata": {},
      "outputs": [
        {
          "data": {
            "text/html": [
              "<div>\n",
              "<style scoped>\n",
              "    .dataframe tbody tr th:only-of-type {\n",
              "        vertical-align: middle;\n",
              "    }\n",
              "\n",
              "    .dataframe tbody tr th {\n",
              "        vertical-align: top;\n",
              "    }\n",
              "\n",
              "    .dataframe thead th {\n",
              "        text-align: right;\n",
              "    }\n",
              "</style>\n",
              "<table border=\"1\" class=\"dataframe\">\n",
              "  <thead>\n",
              "    <tr style=\"text-align: right;\">\n",
              "      <th></th>\n",
              "      <th>age</th>\n",
              "      <th>bmi</th>\n",
              "      <th>bloodpressure</th>\n",
              "      <th>children</th>\n",
              "      <th>claim</th>\n",
              "      <th>female</th>\n",
              "      <th>male</th>\n",
              "      <th>Diabetic?_No</th>\n",
              "      <th>Diabetic?_Yes</th>\n",
              "      <th>Smoker?_No</th>\n",
              "      <th>Smoker?_Yes</th>\n",
              "      <th>northeast</th>\n",
              "      <th>northwest</th>\n",
              "      <th>southeast</th>\n",
              "      <th>southwest</th>\n",
              "    </tr>\n",
              "  </thead>\n",
              "  <tbody>\n",
              "    <tr>\n",
              "      <th>0</th>\n",
              "      <td>39</td>\n",
              "      <td>23.2</td>\n",
              "      <td>91</td>\n",
              "      <td>0</td>\n",
              "      <td>1</td>\n",
              "      <td>0</td>\n",
              "      <td>1</td>\n",
              "      <td>0</td>\n",
              "      <td>1</td>\n",
              "      <td>1</td>\n",
              "      <td>0</td>\n",
              "      <td>0</td>\n",
              "      <td>0</td>\n",
              "      <td>1</td>\n",
              "      <td>0</td>\n",
              "    </tr>\n",
              "    <tr>\n",
              "      <th>1</th>\n",
              "      <td>24</td>\n",
              "      <td>30.1</td>\n",
              "      <td>87</td>\n",
              "      <td>0</td>\n",
              "      <td>1</td>\n",
              "      <td>0</td>\n",
              "      <td>1</td>\n",
              "      <td>1</td>\n",
              "      <td>0</td>\n",
              "      <td>1</td>\n",
              "      <td>0</td>\n",
              "      <td>0</td>\n",
              "      <td>0</td>\n",
              "      <td>1</td>\n",
              "      <td>0</td>\n",
              "    </tr>\n",
              "    <tr>\n",
              "      <th>2</th>\n",
              "      <td>19</td>\n",
              "      <td>41.1</td>\n",
              "      <td>100</td>\n",
              "      <td>0</td>\n",
              "      <td>1</td>\n",
              "      <td>0</td>\n",
              "      <td>1</td>\n",
              "      <td>1</td>\n",
              "      <td>0</td>\n",
              "      <td>1</td>\n",
              "      <td>0</td>\n",
              "      <td>0</td>\n",
              "      <td>1</td>\n",
              "      <td>0</td>\n",
              "      <td>0</td>\n",
              "    </tr>\n",
              "    <tr>\n",
              "      <th>3</th>\n",
              "      <td>20</td>\n",
              "      <td>43.0</td>\n",
              "      <td>86</td>\n",
              "      <td>0</td>\n",
              "      <td>1</td>\n",
              "      <td>0</td>\n",
              "      <td>1</td>\n",
              "      <td>1</td>\n",
              "      <td>0</td>\n",
              "      <td>1</td>\n",
              "      <td>0</td>\n",
              "      <td>0</td>\n",
              "      <td>1</td>\n",
              "      <td>0</td>\n",
              "      <td>0</td>\n",
              "    </tr>\n",
              "    <tr>\n",
              "      <th>4</th>\n",
              "      <td>30</td>\n",
              "      <td>53.1</td>\n",
              "      <td>97</td>\n",
              "      <td>0</td>\n",
              "      <td>1</td>\n",
              "      <td>0</td>\n",
              "      <td>1</td>\n",
              "      <td>1</td>\n",
              "      <td>0</td>\n",
              "      <td>1</td>\n",
              "      <td>0</td>\n",
              "      <td>0</td>\n",
              "      <td>1</td>\n",
              "      <td>0</td>\n",
              "      <td>0</td>\n",
              "    </tr>\n",
              "  </tbody>\n",
              "</table>\n",
              "</div>"
            ],
            "text/plain": [
              "   age   bmi  bloodpressure  children  claim  female  male  Diabetic?_No  \\\n",
              "0   39  23.2             91         0      1       0     1             0   \n",
              "1   24  30.1             87         0      1       0     1             1   \n",
              "2   19  41.1            100         0      1       0     1             1   \n",
              "3   20  43.0             86         0      1       0     1             1   \n",
              "4   30  53.1             97         0      1       0     1             1   \n",
              "\n",
              "   Diabetic?_Yes  Smoker?_No  Smoker?_Yes  northeast  northwest  southeast  \\\n",
              "0              1           1            0          0          0          1   \n",
              "1              0           1            0          0          0          1   \n",
              "2              0           1            0          0          1          0   \n",
              "3              0           1            0          0          1          0   \n",
              "4              0           1            0          0          1          0   \n",
              "\n",
              "   southwest  \n",
              "0          0  \n",
              "1          0  \n",
              "2          0  \n",
              "3          0  \n",
              "4          0  "
            ]
          },
          "execution_count": 340,
          "metadata": {},
          "output_type": "execute_result"
        }
      ],
      "source": [
        "#Classifying Claim amounts into the two clusters\n",
        "#copy to a new dataframe\n",
        "train_df2 = clean_df.copy()\n",
        "train_df2['claim'] = train_df2['claim'].apply(Risk_Classify2)\n",
        "train_df2.head()"
      ]
    },
    {
      "cell_type": "code",
      "execution_count": 350,
      "metadata": {},
      "outputs": [
        {
          "data": {
            "text/plain": [
              "1    666\n",
              "2    599\n",
              "3     67\n",
              "Name: claim, dtype: int64"
            ]
          },
          "execution_count": 350,
          "metadata": {},
          "output_type": "execute_result"
        }
      ],
      "source": [
        "train_df3['claim'].value_counts()"
      ]
    },
    {
      "cell_type": "code",
      "execution_count": 349,
      "metadata": {},
      "outputs": [
        {
          "data": {
            "text/plain": [
              "1    666\n",
              "2    666\n",
              "Name: claim, dtype: int64"
            ]
          },
          "execution_count": 349,
          "metadata": {},
          "output_type": "execute_result"
        }
      ],
      "source": [
        "train_df2['claim'].value_counts()"
      ]
    },
    {
      "cell_type": "code",
      "execution_count": 362,
      "metadata": {
        "id": "b3fjM2q-lnZm"
      },
      "outputs": [],
      "source": [
        "# Split our preprocessed data into our features and target arrays\n",
        "yy2 = train_df2['claim']\n",
        "xx2 = train_df2.drop(['claim'],axis=1)\n",
        "\n",
        "# Split the preprocessed data into a training and testing dataset\n",
        "X_train2,X_test2,Y_train2,Y_test2 = train_test_split(xx2,yy2,random_state=0)"
      ]
    },
    {
      "cell_type": "code",
      "execution_count": null,
      "metadata": {},
      "outputs": [],
      "source": [
        "# Split our preprocessed data into our features and target arrays\n",
        "yy3 = train_df3['claim']\n",
        "xx3 = train_df3.drop(['claim'],axis=1)\n",
        "\n",
        "# Split the preprocessed data into a training and testing dataset\n",
        "X_train3,X_test3,Y_train3,Y_test3 = train_test_split(xx3,yy3,random_state=0)"
      ]
    },
    {
      "cell_type": "markdown",
      "metadata": {},
      "source": [
        "### Compile, Train and Evaluate the Model (3 Risk Classes)"
      ]
    },
    {
      "cell_type": "code",
      "execution_count": 344,
      "metadata": {},
      "outputs": [
        {
          "name": "stderr",
          "output_type": "stream",
          "text": [
            "c:\\Users\\ethan\\anaconda3\\lib\\site-packages\\sklearn\\linear_model\\_logistic.py:814: ConvergenceWarning: lbfgs failed to converge (status=1):\n",
            "STOP: TOTAL NO. of ITERATIONS REACHED LIMIT.\n",
            "\n",
            "Increase the number of iterations (max_iter) or scale the data as shown in:\n",
            "    https://scikit-learn.org/stable/modules/preprocessing.html\n",
            "Please also refer to the documentation for alternative solver options:\n",
            "    https://scikit-learn.org/stable/modules/linear_model.html#logistic-regression\n",
            "  n_iter_i = _check_optimize_result(\n"
          ]
        }
      ],
      "source": [
        "#Now time to run the classification model\n",
        "from sklearn.linear_model import LogisticRegression\n",
        "from sklearn.metrics import balanced_accuracy_score, confusion_matrix, classification_report\n",
        "\n",
        "logReg3 = LogisticRegression(random_state=0)\n",
        "LogRegModel3 = logReg3.fit(X_train3,Y_train3)"
      ]
    },
    {
      "cell_type": "code",
      "execution_count": 345,
      "metadata": {},
      "outputs": [],
      "source": [
        "#Making Predictions\n",
        "predictions3 = LogRegModel.predict(X_test3)"
      ]
    },
    {
      "cell_type": "code",
      "execution_count": 346,
      "metadata": {},
      "outputs": [
        {
          "name": "stdout",
          "output_type": "stream",
          "text": [
            "0.5612389424018122\n"
          ]
        }
      ],
      "source": [
        "#printing accuracy and such\n",
        "accuracy3 = balanced_accuracy_score(Y_test3,predictions3)\n",
        "print(accuracy3)"
      ]
    },
    {
      "cell_type": "code",
      "execution_count": 347,
      "metadata": {},
      "outputs": [
        {
          "name": "stdout",
          "output_type": "stream",
          "text": [
            "[[156  17   0]\n",
            " [ 46  95   2]\n",
            " [  0  15   2]]\n"
          ]
        }
      ],
      "source": [
        "matrix3  = confusion_matrix(Y_test3,predictions3)\n",
        "print(matrix3)"
      ]
    },
    {
      "cell_type": "code",
      "execution_count": 348,
      "metadata": {},
      "outputs": [
        {
          "name": "stdout",
          "output_type": "stream",
          "text": [
            "              precision    recall  f1-score   support\n",
            "\n",
            "           1       0.77      0.90      0.83       173\n",
            "           2       0.75      0.66      0.70       143\n",
            "           3       0.50      0.12      0.19        17\n",
            "\n",
            "    accuracy                           0.76       333\n",
            "   macro avg       0.67      0.56      0.58       333\n",
            "weighted avg       0.75      0.76      0.74       333\n",
            "\n"
          ]
        }
      ],
      "source": [
        "classif3 = classification_report(Y_test3,predictions3)\n",
        "print(classif3)"
      ]
    },
    {
      "cell_type": "markdown",
      "metadata": {},
      "source": [
        "### Limitations of Data for 3 Risk Classes\n",
        "\n",
        "The dataset does not include any underwriting information asides from smoking and diabetic statuses. To truly predict the High Cost Claimants, we need to have diagnosis data such as cancer or thalassemia and or pharmacy spend data for each patient."
      ]
    },
    {
      "cell_type": "markdown",
      "metadata": {},
      "source": [
        "### Compile, Train and Evaluate the Model (2 Risk Classes)"
      ]
    },
    {
      "cell_type": "code",
      "execution_count": 363,
      "metadata": {},
      "outputs": [
        {
          "name": "stderr",
          "output_type": "stream",
          "text": [
            "c:\\Users\\ethan\\anaconda3\\lib\\site-packages\\sklearn\\linear_model\\_logistic.py:814: ConvergenceWarning: lbfgs failed to converge (status=1):\n",
            "STOP: TOTAL NO. of ITERATIONS REACHED LIMIT.\n",
            "\n",
            "Increase the number of iterations (max_iter) or scale the data as shown in:\n",
            "    https://scikit-learn.org/stable/modules/preprocessing.html\n",
            "Please also refer to the documentation for alternative solver options:\n",
            "    https://scikit-learn.org/stable/modules/linear_model.html#logistic-regression\n",
            "  n_iter_i = _check_optimize_result(\n"
          ]
        }
      ],
      "source": [
        "#Now time to run the classification model\n",
        "from sklearn.linear_model import LogisticRegression\n",
        "from sklearn.metrics import balanced_accuracy_score, confusion_matrix, classification_report\n",
        "\n",
        "logReg2 = LogisticRegression(random_state=0)\n",
        "LogRegModel2 = logReg2.fit(X_train2,Y_train2)"
      ]
    },
    {
      "cell_type": "code",
      "execution_count": 364,
      "metadata": {},
      "outputs": [],
      "source": [
        "#Making Predictions\n",
        "predictions2 = LogRegModel.predict(X_test2)"
      ]
    },
    {
      "cell_type": "code",
      "execution_count": 365,
      "metadata": {},
      "outputs": [
        {
          "name": "stdout",
          "output_type": "stream",
          "text": [
            "0.7946170520231214\n"
          ]
        },
        {
          "name": "stderr",
          "output_type": "stream",
          "text": [
            "c:\\Users\\ethan\\anaconda3\\lib\\site-packages\\sklearn\\metrics\\_classification.py:1987: UserWarning: y_pred contains classes not in y_true\n",
            "  warnings.warn(\"y_pred contains classes not in y_true\")\n"
          ]
        }
      ],
      "source": [
        "#printing accuracy and such\n",
        "accuracy2 = balanced_accuracy_score(Y_test2,predictions2)\n",
        "print(accuracy2)"
      ]
    },
    {
      "cell_type": "code",
      "execution_count": 366,
      "metadata": {},
      "outputs": [
        {
          "name": "stdout",
          "output_type": "stream",
          "text": [
            "[[156  17   0]\n",
            " [ 46 110   4]\n",
            " [  0   0   0]]\n"
          ]
        }
      ],
      "source": [
        "matrix2  = confusion_matrix(Y_test2,predictions2)\n",
        "print(matrix2)"
      ]
    },
    {
      "cell_type": "code",
      "execution_count": 367,
      "metadata": {},
      "outputs": [
        {
          "name": "stdout",
          "output_type": "stream",
          "text": [
            "              precision    recall  f1-score   support\n",
            "\n",
            "           1       0.77      0.90      0.83       173\n",
            "           2       0.87      0.69      0.77       160\n",
            "           3       0.00      0.00      0.00         0\n",
            "\n",
            "    accuracy                           0.80       333\n",
            "   macro avg       0.55      0.53      0.53       333\n",
            "weighted avg       0.82      0.80      0.80       333\n",
            "\n"
          ]
        },
        {
          "name": "stderr",
          "output_type": "stream",
          "text": [
            "c:\\Users\\ethan\\anaconda3\\lib\\site-packages\\sklearn\\metrics\\_classification.py:1318: UndefinedMetricWarning: Recall and F-score are ill-defined and being set to 0.0 in labels with no true samples. Use `zero_division` parameter to control this behavior.\n",
            "  _warn_prf(average, modifier, msg_start, len(result))\n",
            "c:\\Users\\ethan\\anaconda3\\lib\\site-packages\\sklearn\\metrics\\_classification.py:1318: UndefinedMetricWarning: Recall and F-score are ill-defined and being set to 0.0 in labels with no true samples. Use `zero_division` parameter to control this behavior.\n",
            "  _warn_prf(average, modifier, msg_start, len(result))\n",
            "c:\\Users\\ethan\\anaconda3\\lib\\site-packages\\sklearn\\metrics\\_classification.py:1318: UndefinedMetricWarning: Recall and F-score are ill-defined and being set to 0.0 in labels with no true samples. Use `zero_division` parameter to control this behavior.\n",
            "  _warn_prf(average, modifier, msg_start, len(result))\n"
          ]
        }
      ],
      "source": [
        "classif2 = classification_report(Y_test2,predictions2)\n",
        "print(classif2)"
      ]
    },
    {
      "cell_type": "markdown",
      "metadata": {},
      "source": [
        "### Limitations of Data for 2 Risk Classes\n",
        "\n",
        "The same reasons here, except this model will be much more effective for identifying high or low risk due to the higher amount of test data in each cluster. It ran a balanced accuracy of 79% compared to the 3 group model of 56%.\n",
        "The dataset does not include any underwriting information asides from smoking and diabetic statuses. To truly predict the High Cost Claimants, we need to have diagnosis data such as cancer or thalassemia and or pharmacy spend data for each patient."
      ]
    },
    {
      "cell_type": "markdown",
      "metadata": {},
      "source": [
        "## Diabetic Identification Clustering"
      ]
    },
    {
      "cell_type": "code",
      "execution_count": 373,
      "metadata": {},
      "outputs": [
        {
          "data": {
            "text/html": [
              "<div>\n",
              "<style scoped>\n",
              "    .dataframe tbody tr th:only-of-type {\n",
              "        vertical-align: middle;\n",
              "    }\n",
              "\n",
              "    .dataframe tbody tr th {\n",
              "        vertical-align: top;\n",
              "    }\n",
              "\n",
              "    .dataframe thead th {\n",
              "        text-align: right;\n",
              "    }\n",
              "</style>\n",
              "<table border=\"1\" class=\"dataframe\">\n",
              "  <thead>\n",
              "    <tr style=\"text-align: right;\">\n",
              "      <th></th>\n",
              "      <th>age</th>\n",
              "      <th>bmi</th>\n",
              "      <th>bloodpressure</th>\n",
              "      <th>children</th>\n",
              "      <th>claim</th>\n",
              "      <th>female</th>\n",
              "      <th>male</th>\n",
              "      <th>Diabetic?_No</th>\n",
              "      <th>Diabetic?_Yes</th>\n",
              "      <th>Smoker?_No</th>\n",
              "      <th>Smoker?_Yes</th>\n",
              "      <th>northeast</th>\n",
              "      <th>northwest</th>\n",
              "      <th>southeast</th>\n",
              "      <th>southwest</th>\n",
              "    </tr>\n",
              "  </thead>\n",
              "  <tbody>\n",
              "    <tr>\n",
              "      <th>0</th>\n",
              "      <td>39</td>\n",
              "      <td>23.2</td>\n",
              "      <td>91</td>\n",
              "      <td>0</td>\n",
              "      <td>1121</td>\n",
              "      <td>0</td>\n",
              "      <td>1</td>\n",
              "      <td>0</td>\n",
              "      <td>1</td>\n",
              "      <td>1</td>\n",
              "      <td>0</td>\n",
              "      <td>0</td>\n",
              "      <td>0</td>\n",
              "      <td>1</td>\n",
              "      <td>0</td>\n",
              "    </tr>\n",
              "    <tr>\n",
              "      <th>1</th>\n",
              "      <td>24</td>\n",
              "      <td>30.1</td>\n",
              "      <td>87</td>\n",
              "      <td>0</td>\n",
              "      <td>1131</td>\n",
              "      <td>0</td>\n",
              "      <td>1</td>\n",
              "      <td>1</td>\n",
              "      <td>0</td>\n",
              "      <td>1</td>\n",
              "      <td>0</td>\n",
              "      <td>0</td>\n",
              "      <td>0</td>\n",
              "      <td>1</td>\n",
              "      <td>0</td>\n",
              "    </tr>\n",
              "    <tr>\n",
              "      <th>2</th>\n",
              "      <td>19</td>\n",
              "      <td>41.1</td>\n",
              "      <td>100</td>\n",
              "      <td>0</td>\n",
              "      <td>1146</td>\n",
              "      <td>0</td>\n",
              "      <td>1</td>\n",
              "      <td>1</td>\n",
              "      <td>0</td>\n",
              "      <td>1</td>\n",
              "      <td>0</td>\n",
              "      <td>0</td>\n",
              "      <td>1</td>\n",
              "      <td>0</td>\n",
              "      <td>0</td>\n",
              "    </tr>\n",
              "    <tr>\n",
              "      <th>3</th>\n",
              "      <td>20</td>\n",
              "      <td>43.0</td>\n",
              "      <td>86</td>\n",
              "      <td>0</td>\n",
              "      <td>1149</td>\n",
              "      <td>0</td>\n",
              "      <td>1</td>\n",
              "      <td>1</td>\n",
              "      <td>0</td>\n",
              "      <td>1</td>\n",
              "      <td>0</td>\n",
              "      <td>0</td>\n",
              "      <td>1</td>\n",
              "      <td>0</td>\n",
              "      <td>0</td>\n",
              "    </tr>\n",
              "    <tr>\n",
              "      <th>4</th>\n",
              "      <td>30</td>\n",
              "      <td>53.1</td>\n",
              "      <td>97</td>\n",
              "      <td>0</td>\n",
              "      <td>1163</td>\n",
              "      <td>0</td>\n",
              "      <td>1</td>\n",
              "      <td>1</td>\n",
              "      <td>0</td>\n",
              "      <td>1</td>\n",
              "      <td>0</td>\n",
              "      <td>0</td>\n",
              "      <td>1</td>\n",
              "      <td>0</td>\n",
              "      <td>0</td>\n",
              "    </tr>\n",
              "  </tbody>\n",
              "</table>\n",
              "</div>"
            ],
            "text/plain": [
              "   age   bmi  bloodpressure  children  claim  female  male  Diabetic?_No  \\\n",
              "0   39  23.2             91         0   1121       0     1             0   \n",
              "1   24  30.1             87         0   1131       0     1             1   \n",
              "2   19  41.1            100         0   1146       0     1             1   \n",
              "3   20  43.0             86         0   1149       0     1             1   \n",
              "4   30  53.1             97         0   1163       0     1             1   \n",
              "\n",
              "   Diabetic?_Yes  Smoker?_No  Smoker?_Yes  northeast  northwest  southeast  \\\n",
              "0              1           1            0          0          0          1   \n",
              "1              0           1            0          0          0          1   \n",
              "2              0           1            0          0          1          0   \n",
              "3              0           1            0          0          1          0   \n",
              "4              0           1            0          0          1          0   \n",
              "\n",
              "   southwest  \n",
              "0          0  \n",
              "1          0  \n",
              "2          0  \n",
              "3          0  \n",
              "4          0  "
            ]
          },
          "execution_count": 373,
          "metadata": {},
          "output_type": "execute_result"
        }
      ],
      "source": [
        "# Checking the DataFrame is ready to cluster directly\n",
        "clean_df.head()"
      ]
    },
    {
      "cell_type": "code",
      "execution_count": 374,
      "metadata": {},
      "outputs": [],
      "source": [
        "#Splitting the Data on Diabetic?_Yes\n",
        "#Copy the DataFrame\n",
        "diab_df = clean_df.copy()\n",
        "# Split our preprocessed data into our features and target arrays\n",
        "yyD = diab_df['Diabetic?_Yes']\n",
        "xxD = diab_df.drop(['Diabetic?_No','Diabetic?_Yes'],axis=1)\n",
        "\n",
        "# Split the preprocessed data into a training and testing dataset\n",
        "X_trainD,X_testD,Y_trainD,Y_testD = train_test_split(xxD,yyD,random_state=0)"
      ]
    },
    {
      "cell_type": "code",
      "execution_count": 375,
      "metadata": {},
      "outputs": [],
      "source": [
        "#Initialize the model\n",
        "logRegD = LogisticRegression(random_state=0)\n",
        "LogRegModelD = logRegD.fit(X_trainD,Y_trainD)"
      ]
    },
    {
      "cell_type": "code",
      "execution_count": 376,
      "metadata": {},
      "outputs": [],
      "source": [
        "#Making Predictions\n",
        "predictionsD = LogRegModelD.predict(X_testD)"
      ]
    },
    {
      "cell_type": "code",
      "execution_count": 377,
      "metadata": {},
      "outputs": [
        {
          "name": "stdout",
          "output_type": "stream",
          "text": [
            "0.47375541125541126\n"
          ]
        }
      ],
      "source": [
        "#printing accuracy and such\n",
        "accuracyD = balanced_accuracy_score(Y_testD,predictionsD)\n",
        "print(accuracyD)"
      ]
    },
    {
      "cell_type": "code",
      "execution_count": 378,
      "metadata": {},
      "outputs": [
        {
          "name": "stdout",
          "output_type": "stream",
          "text": [
            "[[120  45]\n",
            " [131  37]]\n"
          ]
        }
      ],
      "source": [
        "matrixD  = confusion_matrix(Y_testD,predictionsD)\n",
        "print(matrixD)"
      ]
    },
    {
      "cell_type": "code",
      "execution_count": 379,
      "metadata": {},
      "outputs": [
        {
          "name": "stdout",
          "output_type": "stream",
          "text": [
            "              precision    recall  f1-score   support\n",
            "\n",
            "           0       0.48      0.73      0.58       165\n",
            "           1       0.45      0.22      0.30       168\n",
            "\n",
            "    accuracy                           0.47       333\n",
            "   macro avg       0.46      0.47      0.44       333\n",
            "weighted avg       0.46      0.47      0.44       333\n",
            "\n"
          ]
        }
      ],
      "source": [
        "classifD = classification_report(Y_testD,predictionsD)\n",
        "print(classifD)"
      ]
    },
    {
      "cell_type": "markdown",
      "metadata": {},
      "source": [
        "### Diabetic Clustering Limitations\n",
        "\n",
        "Since being a diabetic causes a large increase in pharmacy spend and increased risk of medical comorbidities, this data set is not extensive enough to effectly predict. We would need what their drug spend is and what types of claims they made over the time period (retinopathy and etcetera). However, an accuracy of 47% when constrained by HIPAA and the lack of underwriting information is still an astounding rate and may help anyone with proper medical insurance administration via suggestions for testing. Especially considering, someone may not know if they are diabetic or are at a higher risk. Let's compare the claims between diabetics and non-diabetics:"
      ]
    },
    {
      "cell_type": "code",
      "execution_count": 392,
      "metadata": {},
      "outputs": [
        {
          "data": {
            "text/plain": [
              "Diabetic?_Yes\n",
              "0    13406.117986\n",
              "1    13235.990581\n",
              "Name: claim, dtype: float64"
            ]
          },
          "execution_count": 392,
          "metadata": {},
          "output_type": "execute_result"
        }
      ],
      "source": [
        "clean_df.groupby(by='Diabetic?_Yes').mean()['claim']"
      ]
    },
    {
      "cell_type": "markdown",
      "metadata": {},
      "source": [
        "The similarity in Diabetic vs. Non-Diabetic claims confirms the data limitations!"
      ]
    },
    {
      "cell_type": "markdown",
      "metadata": {},
      "source": [
        "## Smoker Identification Clustering"
      ]
    },
    {
      "cell_type": "code",
      "execution_count": 380,
      "metadata": {},
      "outputs": [
        {
          "data": {
            "text/html": [
              "<div>\n",
              "<style scoped>\n",
              "    .dataframe tbody tr th:only-of-type {\n",
              "        vertical-align: middle;\n",
              "    }\n",
              "\n",
              "    .dataframe tbody tr th {\n",
              "        vertical-align: top;\n",
              "    }\n",
              "\n",
              "    .dataframe thead th {\n",
              "        text-align: right;\n",
              "    }\n",
              "</style>\n",
              "<table border=\"1\" class=\"dataframe\">\n",
              "  <thead>\n",
              "    <tr style=\"text-align: right;\">\n",
              "      <th></th>\n",
              "      <th>age</th>\n",
              "      <th>bmi</th>\n",
              "      <th>bloodpressure</th>\n",
              "      <th>children</th>\n",
              "      <th>claim</th>\n",
              "      <th>female</th>\n",
              "      <th>male</th>\n",
              "      <th>Diabetic?_No</th>\n",
              "      <th>Diabetic?_Yes</th>\n",
              "      <th>Smoker?_No</th>\n",
              "      <th>Smoker?_Yes</th>\n",
              "      <th>northeast</th>\n",
              "      <th>northwest</th>\n",
              "      <th>southeast</th>\n",
              "      <th>southwest</th>\n",
              "    </tr>\n",
              "  </thead>\n",
              "  <tbody>\n",
              "    <tr>\n",
              "      <th>0</th>\n",
              "      <td>39</td>\n",
              "      <td>23.2</td>\n",
              "      <td>91</td>\n",
              "      <td>0</td>\n",
              "      <td>1121</td>\n",
              "      <td>0</td>\n",
              "      <td>1</td>\n",
              "      <td>0</td>\n",
              "      <td>1</td>\n",
              "      <td>1</td>\n",
              "      <td>0</td>\n",
              "      <td>0</td>\n",
              "      <td>0</td>\n",
              "      <td>1</td>\n",
              "      <td>0</td>\n",
              "    </tr>\n",
              "    <tr>\n",
              "      <th>1</th>\n",
              "      <td>24</td>\n",
              "      <td>30.1</td>\n",
              "      <td>87</td>\n",
              "      <td>0</td>\n",
              "      <td>1131</td>\n",
              "      <td>0</td>\n",
              "      <td>1</td>\n",
              "      <td>1</td>\n",
              "      <td>0</td>\n",
              "      <td>1</td>\n",
              "      <td>0</td>\n",
              "      <td>0</td>\n",
              "      <td>0</td>\n",
              "      <td>1</td>\n",
              "      <td>0</td>\n",
              "    </tr>\n",
              "    <tr>\n",
              "      <th>2</th>\n",
              "      <td>19</td>\n",
              "      <td>41.1</td>\n",
              "      <td>100</td>\n",
              "      <td>0</td>\n",
              "      <td>1146</td>\n",
              "      <td>0</td>\n",
              "      <td>1</td>\n",
              "      <td>1</td>\n",
              "      <td>0</td>\n",
              "      <td>1</td>\n",
              "      <td>0</td>\n",
              "      <td>0</td>\n",
              "      <td>1</td>\n",
              "      <td>0</td>\n",
              "      <td>0</td>\n",
              "    </tr>\n",
              "    <tr>\n",
              "      <th>3</th>\n",
              "      <td>20</td>\n",
              "      <td>43.0</td>\n",
              "      <td>86</td>\n",
              "      <td>0</td>\n",
              "      <td>1149</td>\n",
              "      <td>0</td>\n",
              "      <td>1</td>\n",
              "      <td>1</td>\n",
              "      <td>0</td>\n",
              "      <td>1</td>\n",
              "      <td>0</td>\n",
              "      <td>0</td>\n",
              "      <td>1</td>\n",
              "      <td>0</td>\n",
              "      <td>0</td>\n",
              "    </tr>\n",
              "    <tr>\n",
              "      <th>4</th>\n",
              "      <td>30</td>\n",
              "      <td>53.1</td>\n",
              "      <td>97</td>\n",
              "      <td>0</td>\n",
              "      <td>1163</td>\n",
              "      <td>0</td>\n",
              "      <td>1</td>\n",
              "      <td>1</td>\n",
              "      <td>0</td>\n",
              "      <td>1</td>\n",
              "      <td>0</td>\n",
              "      <td>0</td>\n",
              "      <td>1</td>\n",
              "      <td>0</td>\n",
              "      <td>0</td>\n",
              "    </tr>\n",
              "  </tbody>\n",
              "</table>\n",
              "</div>"
            ],
            "text/plain": [
              "   age   bmi  bloodpressure  children  claim  female  male  Diabetic?_No  \\\n",
              "0   39  23.2             91         0   1121       0     1             0   \n",
              "1   24  30.1             87         0   1131       0     1             1   \n",
              "2   19  41.1            100         0   1146       0     1             1   \n",
              "3   20  43.0             86         0   1149       0     1             1   \n",
              "4   30  53.1             97         0   1163       0     1             1   \n",
              "\n",
              "   Diabetic?_Yes  Smoker?_No  Smoker?_Yes  northeast  northwest  southeast  \\\n",
              "0              1           1            0          0          0          1   \n",
              "1              0           1            0          0          0          1   \n",
              "2              0           1            0          0          1          0   \n",
              "3              0           1            0          0          1          0   \n",
              "4              0           1            0          0          1          0   \n",
              "\n",
              "   southwest  \n",
              "0          0  \n",
              "1          0  \n",
              "2          0  \n",
              "3          0  \n",
              "4          0  "
            ]
          },
          "execution_count": 380,
          "metadata": {},
          "output_type": "execute_result"
        }
      ],
      "source": [
        "# Checking the DataFrame is ready to cluster directly\n",
        "clean_df.head()"
      ]
    },
    {
      "cell_type": "code",
      "execution_count": 381,
      "metadata": {},
      "outputs": [],
      "source": [
        "#Splitting the Data on Diabetic?_Yes\n",
        "#Copy the DataFrame\n",
        "smonk_df = clean_df.copy()\n",
        "# Split our preprocessed data into our features and target arrays\n",
        "yyS = smonk_df['Smoker?_Yes']\n",
        "xxS = smonk_df.drop(['Smoker?_No','Smoker?_Yes'],axis=1)\n",
        "\n",
        "# Split the preprocessed data into a training and testing dataset\n",
        "X_trainS,X_testS,Y_trainS,Y_testS = train_test_split(xxS,yyS,random_state=0)"
      ]
    },
    {
      "cell_type": "code",
      "execution_count": 382,
      "metadata": {},
      "outputs": [],
      "source": [
        "#Initialize the model\n",
        "logRegS = LogisticRegression(random_state=0)\n",
        "LogRegModelS = logRegS.fit(X_trainS,Y_trainS)"
      ]
    },
    {
      "cell_type": "code",
      "execution_count": 383,
      "metadata": {},
      "outputs": [],
      "source": [
        "#Making Predictions\n",
        "predictionsS = LogRegModelS.predict(X_testS)"
      ]
    },
    {
      "cell_type": "code",
      "execution_count": 384,
      "metadata": {},
      "outputs": [
        {
          "name": "stdout",
          "output_type": "stream",
          "text": [
            "0.8541478129713425\n"
          ]
        }
      ],
      "source": [
        "#printing accuracy and such\n",
        "accuracyS = balanced_accuracy_score(Y_testS,predictionsS)\n",
        "print(accuracyS)"
      ]
    },
    {
      "cell_type": "code",
      "execution_count": 385,
      "metadata": {},
      "outputs": [
        {
          "name": "stdout",
          "output_type": "stream",
          "text": [
            "[[246   9]\n",
            " [ 20  58]]\n"
          ]
        }
      ],
      "source": [
        "matrixS  = confusion_matrix(Y_testS,predictionsS)\n",
        "print(matrixS)"
      ]
    },
    {
      "cell_type": "code",
      "execution_count": 386,
      "metadata": {},
      "outputs": [
        {
          "name": "stdout",
          "output_type": "stream",
          "text": [
            "              precision    recall  f1-score   support\n",
            "\n",
            "           0       0.92      0.96      0.94       255\n",
            "           1       0.87      0.74      0.80        78\n",
            "\n",
            "    accuracy                           0.91       333\n",
            "   macro avg       0.90      0.85      0.87       333\n",
            "weighted avg       0.91      0.91      0.91       333\n",
            "\n"
          ]
        }
      ],
      "source": [
        "classifS = classification_report(Y_testS,predictionsS)\n",
        "print(classifS)"
      ]
    },
    {
      "cell_type": "markdown",
      "metadata": {},
      "source": [
        "### Smoking Clustering Limitations\n",
        "\n",
        "This model is very accurate with a balanced accuracy of 85% with very few features involved. This can be applied pretty safely for EAP programs to target cessation support and screenings for cancer. This will ameliorate the rate at which subscribers will get smoking related conditions. Moreover, smoking is a great risk feature to predict and to adjust accordingly. Let's compare the claims between smokers and non-smokers:"
      ]
    },
    {
      "cell_type": "code",
      "execution_count": 393,
      "metadata": {},
      "outputs": [
        {
          "data": {
            "text/plain": [
              "Smoker?_Yes\n",
              "0     8475.379962\n",
              "1    32049.729927\n",
              "Name: claim, dtype: float64"
            ]
          },
          "execution_count": 393,
          "metadata": {},
          "output_type": "execute_result"
        }
      ],
      "source": [
        "clean_df.groupby(by='Smoker?_Yes').mean()['claim']"
      ]
    },
    {
      "cell_type": "markdown",
      "metadata": {},
      "source": [
        "This confirms the analysis of smoking condition of claim amounts!"
      ]
    }
  ],
  "metadata": {
    "colab": {
      "provenance": []
    },
    "kernelspec": {
      "display_name": "Python 3",
      "language": "python",
      "name": "python3"
    },
    "language_info": {
      "codemirror_mode": {
        "name": "ipython",
        "version": 3
      },
      "file_extension": ".py",
      "mimetype": "text/x-python",
      "name": "python",
      "nbconvert_exporter": "python",
      "pygments_lexer": "ipython3",
      "version": "3.9.13"
    },
    "vscode": {
      "interpreter": {
        "hash": "31f2aee4e71d21fbe5cf8b01ff0e069b9275f58929596ceb00d14d90e3e16cd6"
      }
    }
  },
  "nbformat": 4,
  "nbformat_minor": 0
}
